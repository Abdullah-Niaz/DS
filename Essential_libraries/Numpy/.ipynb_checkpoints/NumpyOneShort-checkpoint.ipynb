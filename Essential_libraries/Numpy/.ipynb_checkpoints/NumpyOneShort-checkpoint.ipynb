{
 "cells": [
  {
   "cell_type": "markdown",
   "id": "04f12487-05b0-4a71-8975-00f829df93b8",
   "metadata": {},
   "source": [
    "# Phase 1"
   ]
  },
  {
   "cell_type": "code",
   "execution_count": 4,
   "id": "79c83e94-f8d2-4eab-91a0-957c4659b00f",
   "metadata": {},
   "outputs": [],
   "source": [
    "import numpy as np"
   ]
  },
  {
   "cell_type": "code",
   "execution_count": 6,
   "id": "442bad21-c2f0-4d5b-b254-9cbc385bc62b",
   "metadata": {},
   "outputs": [
    {
     "name": "stdout",
     "output_type": "stream",
     "text": [
      "1-D array:  [1 2 3 4]\n",
      "2-D array:  [[1 2 3 4]\n",
      " [5 6 7 8]]\n"
     ]
    }
   ],
   "source": [
    "arr_1d = np.array([1,2,3,4]) # 1-D array\n",
    "arr_2d = np.array([ [1,2,3,4],[5,6,7,8]]) # 2-D array\n",
    "\n",
    "print(\"1-D array: \", arr_1d)\n",
    "print(\"2-D array: \", arr_2d)"
   ]
  },
  {
   "cell_type": "code",
   "execution_count": 9,
   "id": "09b928fc-30d6-49b8-b0b5-ddfffb3495d2",
   "metadata": {},
   "outputs": [
    {
     "data": {
      "text/plain": [
       "[1, 2, 3, 4, 1, 2, 3, 4, 1, 2, 3, 4, 1, 2, 3, 4]"
      ]
     },
     "execution_count": 9,
     "metadata": {},
     "output_type": "execute_result"
    }
   ],
   "source": [
    "li = [1,2,3,4]\n",
    "li = li * 4\n",
    "li"
   ]
  },
  {
   "cell_type": "code",
   "execution_count": 15,
   "id": "9ac1631d-42af-4953-b12c-88925bf281f5",
   "metadata": {},
   "outputs": [
    {
     "name": "stdout",
     "output_type": "stream",
     "text": [
      "[ 4  8 12 16]\n",
      "[[ 4  8 12 16]\n",
      " [20 24 28 32]]\n"
     ]
    }
   ],
   "source": [
    "#  Element wise multiplication\n",
    "li1 = np.array([1,2,3,4])\n",
    "li2 = np.array([[1,2,3,4],[5,6,7,8]])\n",
    "li1 = li1 * 4\n",
    "li2 = li2 * 4\n",
    "print(li1)\n",
    "print(li2"
   ]
  },
  {
   "cell_type": "markdown",
   "id": "7e3c6a19-ec50-4691-91aa-b097e4919b2a",
   "metadata": {},
   "source": [
    "### Classic List Multiplication & Time "
   ]
  },
  {
   "cell_type": "code",
   "execution_count": 41,
   "id": "ad73a090-3836-4c7c-ae4b-25122f8d79d0",
   "metadata": {},
   "outputs": [
    {
     "name": "stdout",
     "output_type": "stream",
     "text": [
      "Time Taken to Process 100000 array:  0.17378592491149902\n"
     ]
    }
   ],
   "source": [
    "import time \n",
    "start = time.time()\n",
    "py_list = [i*2 for i in range(1,1000000)]\n",
    "# print(py_list)\n",
    "end = time.time()\n",
    "total_time = end - start\n",
    "print(\"Time Taken to Process 100000 array: \",total_time)\n"
   ]
  },
  {
   "cell_type": "code",
   "execution_count": 43,
   "id": "b66b8052-93ad-4af3-8092-4ec2c677b366",
   "metadata": {},
   "outputs": [
    {
     "name": "stdout",
     "output_type": "stream",
     "text": [
      "Time Taken to Process 100000 array:  0.04430866241455078\n"
     ]
    }
   ],
   "source": [
    "start = time.time()\n",
    "np_array = np.arange(1000000) * 2\n",
    "end = time.time()\n",
    "total_timen = end - start\n",
    "print(\"Time Taken to Process 100000 array: \",total_timen)"
   ]
  },
  {
   "cell_type": "markdown",
   "id": "add4d017-c8d3-42a7-9cd1-fd2ff33be011",
   "metadata": {},
   "source": [
    "### Creating array from scratch"
   ]
  },
  {
   "cell_type": "code",
   "execution_count": 48,
   "id": "46430773-694b-4aa2-8a4c-59c7b2fffe71",
   "metadata": {},
   "outputs": [
    {
     "name": "stdout",
     "output_type": "stream",
     "text": [
      "Zeros Arrar: [[0. 0.]\n",
      " [0. 0.]\n",
      " [0. 0.]]\n"
     ]
    }
   ],
   "source": [
    "zeros  =np.zeros((3,2))\n",
    "print(\"Zeros Arrar:\",zeros)"
   ]
  },
  {
   "cell_type": "code",
   "execution_count": 50,
   "id": "65c86433-c41a-4994-8bc7-364db6c5374a",
   "metadata": {},
   "outputs": [
    {
     "name": "stdout",
     "output_type": "stream",
     "text": [
      "Zeros Arrar: [[1. 1.]\n",
      " [1. 1.]\n",
      " [1. 1.]]\n"
     ]
    }
   ],
   "source": [
    "ones  =np.ones((3,2))\n",
    "print(\"Zeros Arrar:\",ones)"
   ]
  },
  {
   "cell_type": "code",
   "execution_count": 53,
   "id": "b73c5b08-6360-4093-b169-285a6e67556c",
   "metadata": {},
   "outputs": [
    {
     "name": "stdout",
     "output_type": "stream",
     "text": [
      "Zeros Arrar: [[4 4]\n",
      " [4 4]\n",
      " [4 4]]\n"
     ]
    }
   ],
   "source": [
    "full  =np.full((3,2),4)\n",
    "print(\"Zeros Arrar:\",full)"
   ]
  },
  {
   "cell_type": "code",
   "execution_count": 58,
   "id": "99735ac6-ffb8-438d-907c-d8699b218f8e",
   "metadata": {},
   "outputs": [
    {
     "name": "stdout",
     "output_type": "stream",
     "text": [
      "Random:  [[0.74399462 0.07073015 0.15253643]\n",
      " [0.95310174 0.41795082 0.13585241]\n",
      " [0.21983828 0.48936462 0.59023787]\n",
      " [0.90015427 0.08226706 0.60082574]\n",
      " [0.07151265 0.27343477 0.16114574]\n",
      " [0.74435535 0.26231314 0.16087982]\n",
      " [0.99807163 0.19173227 0.06472753]\n",
      " [0.70508623 0.25975577 0.05386825]\n",
      " [0.94637046 0.59441255 0.57692468]\n",
      " [0.91742639 0.57776129 0.48477352]\n",
      " [0.89536504 0.71336431 0.74890681]\n",
      " [0.90161677 0.65656782 0.38130829]]\n"
     ]
    }
   ],
   "source": [
    "random = np.random.random((12,3))  # 12 rows and 3 columns\n",
    "print(\"Random: \", random)"
   ]
  },
  {
   "cell_type": "code",
   "execution_count": 61,
   "id": "6f6e91fc-3cea-49e2-a09f-35857db93c4f",
   "metadata": {},
   "outputs": [
    {
     "name": "stdout",
     "output_type": "stream",
     "text": [
      "[0 1 2 3 4 5 6 7 8 9]\n"
     ]
    }
   ],
   "source": [
    "sequence = np.arange(0,10,1)\n",
    "print(sequence)"
   ]
  },
  {
   "cell_type": "markdown",
   "id": "14595fa7-c08c-4b85-8363-93bc80f35e82",
   "metadata": {},
   "source": [
    "### Vector, Matrix, Tensor"
   ]
  },
  {
   "cell_type": "code",
   "execution_count": 62,
   "id": "c16ce576-c1e8-4333-944f-86a63b0e48e0",
   "metadata": {},
   "outputs": [
    {
     "name": "stdout",
     "output_type": "stream",
     "text": [
      "vector:  [1 2 3 4]\n"
     ]
    }
   ],
   "source": [
    "vector = np.array([1,2,3,4]) # vector \n",
    "print(\"vector: \", vector)"
   ]
  },
  {
   "cell_type": "code",
   "execution_count": 68,
   "id": "4eecd099-2cc2-4beb-bec2-ff0b9f687f21",
   "metadata": {},
   "outputs": [
    {
     "name": "stdout",
     "output_type": "stream",
     "text": [
      "matrix:  [[1 2 3]\n",
      " [5 6 7]]\n"
     ]
    }
   ],
   "source": [
    "matrix = np.array([[1,2,3],[5,6,7]])\n",
    "print(\"matrix: \" , matrix)"
   ]
  },
  {
   "cell_type": "code",
   "execution_count": 71,
   "id": "4de69e36-0752-4ea8-a5d0-b199527076ca",
   "metadata": {},
   "outputs": [
    {
     "name": "stdout",
     "output_type": "stream",
     "text": [
      "Tensor:  [[[1 2]\n",
      "  [3 4]\n",
      "  [5 6]\n",
      "  [7 8]]]\n"
     ]
    }
   ],
   "source": [
    "tensor = np.array([[\n",
    "    [1,2],[3,4],\n",
    "    [5,6],[7,8]\n",
    "]])\n",
    "print(\"Tensor: \", tensor)"
   ]
  },
  {
   "cell_type": "markdown",
   "id": "a5efeae4-06b2-4533-891f-4028a907bc69",
   "metadata": {},
   "source": [
    "### Array properties"
   ]
  },
  {
   "cell_type": "code",
   "execution_count": 73,
   "id": "5b5f254e-d94c-4c2c-a9ce-4e6496bca614",
   "metadata": {},
   "outputs": [],
   "source": [
    "arr = np.array([\n",
    "    [1,2,3],[4,5,6]\n",
    "])"
   ]
  },
  {
   "cell_type": "code",
   "execution_count": 78,
   "id": "fd913f70-f486-4a03-aec9-5b356fa5c874",
   "metadata": {},
   "outputs": [
    {
     "ename": "NameError",
     "evalue": "name 'shape' is not defined",
     "output_type": "error",
     "traceback": [
      "\u001b[0;31m---------------------------------------------------------------------------\u001b[0m",
      "\u001b[0;31mNameError\u001b[0m                                 Traceback (most recent call last)",
      "Cell \u001b[0;32mIn[78], line 1\u001b[0m\n\u001b[0;32m----> 1\u001b[0m shape(np)\n",
      "\u001b[0;31mNameError\u001b[0m: name 'shape' is not defined"
     ]
    }
   ],
   "source": [
    ")"
   ]
  },
  {
   "cell_type": "code",
   "execution_count": null,
   "id": "7889b440-9422-44cd-90a8-df497c134198",
   "metadata": {},
   "outputs": [],
   "source": []
  }
 ],
 "metadata": {
  "kernelspec": {
   "display_name": "Python 3 (ipykernel)",
   "language": "python",
   "name": "python3"
  },
  "language_info": {
   "codemirror_mode": {
    "name": "ipython",
    "version": 3
   },
   "file_extension": ".py",
   "mimetype": "text/x-python",
   "name": "python",
   "nbconvert_exporter": "python",
   "pygments_lexer": "ipython3",
   "version": "3.11.7"
  }
 },
 "nbformat": 4,
 "nbformat_minor": 5
}
