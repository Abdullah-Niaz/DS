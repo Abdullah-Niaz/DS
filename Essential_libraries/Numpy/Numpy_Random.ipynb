{
 "cells": [
  {
   "cell_type": "code",
   "execution_count": 2,
   "metadata": {},
   "outputs": [],
   "source": [
    "import numpy as np\n",
    "from numpy import random"
   ]
  },
  {
   "cell_type": "markdown",
   "metadata": {},
   "source": [
    "### What is a Random Number?\n",
    "Random number does NOT mean a different number every time. Random means something that can not be predicted logically."
   ]
  },
  {
   "cell_type": "code",
   "execution_count": 16,
   "metadata": {},
   "outputs": [
    {
     "name": "stdout",
     "output_type": "stream",
     "text": [
      "38\n"
     ]
    }
   ],
   "source": [
    "x = random.randint(100)\n",
    "print(x)"
   ]
  },
  {
   "cell_type": "code",
   "execution_count": 14,
   "metadata": {},
   "outputs": [
    {
     "name": "stdout",
     "output_type": "stream",
     "text": [
      "1\n"
     ]
    }
   ],
   "source": [
    "x = random.randint(1, 100) if random.randint(1, 100) % 2 == 0 else 1\n",
    "print(x)"
   ]
  },
  {
   "cell_type": "code",
   "execution_count": 30,
   "metadata": {},
   "outputs": [
    {
     "name": "stdout",
     "output_type": "stream",
     "text": [
      "[ 0  0  0  0  2  4  0  1  1  8  1 11  5  6  9  9  6 12  2 17 13  0 19 20\n",
      "  1 15 21  2 17 28 12 11  1 29 15  7 34  3 19 37 14 28 23  9 27 44 12  1\n",
      " 48 46 29  2 39 36 48  7 27 24 27 59 31 39 22 61 27 31  1 21 66 63 49  1\n",
      " 63 53  0  7 63 44 53 47 28 79 24 78 31 54 28  9 67 87  4 81 10 56 30  4\n",
      "  0  0 14]\n",
      "[array([ True,  True,  True,  True,  True,  True,  True, False, False,\n",
      "        True, False, False, False,  True, False, False,  True,  True,\n",
      "        True, False, False,  True, False,  True, False, False, False,\n",
      "        True, False,  True,  True, False, False, False, False, False,\n",
      "        True, False, False, False,  True,  True, False, False, False,\n",
      "        True,  True, False,  True,  True, False,  True, False,  True,\n",
      "        True, False, False,  True, False, False, False, False,  True,\n",
      "       False, False, False, False, False,  True, False, False, False,\n",
      "       False, False,  True, False, False,  True, False, False,  True,\n",
      "       False,  True,  True, False,  True,  True, False, False, False,\n",
      "        True, False,  True,  True,  True,  True,  True,  True,  True])]\n",
      "[array([ True,  True,  True,  True, False, False,  True, False, False,\n",
      "       False, False, False, False,  True,  True,  True,  True,  True,\n",
      "       False, False, False,  True, False, False, False,  True,  True,\n",
      "       False, False, False,  True, False, False, False,  True, False,\n",
      "       False,  True, False, False, False, False, False,  True,  True,\n",
      "       False,  True, False,  True, False, False, False,  True,  True,\n",
      "        True, False,  True,  True,  True, False, False,  True, False,\n",
      "       False,  True, False, False,  True,  True,  True, False, False,\n",
      "        True, False,  True, False,  True, False, False, False, False,\n",
      "       False,  True,  True, False,  True, False,  True, False,  True,\n",
      "       False,  True, False, False,  True, False,  True,  True, False])]\n"
     ]
    }
   ],
   "source": [
    "x = random.randint(range(1,100))\n",
    "\n",
    "by_two= [] \n",
    "by_two.append( x % 2 == 0)\n",
    "by_thre = []\n",
    "by_thre.append(x % 3 == 0) \n",
    "print(x)\n",
    "print(by_two)\n",
    "print(by_thre)"
   ]
  },
  {
   "cell_type": "code",
   "execution_count": 36,
   "metadata": {},
   "outputs": [
    {
     "name": "stdout",
     "output_type": "stream",
     "text": [
      "[ True False False  True  True  True False  True  True  True  True  True\n",
      " False  True  True  True False False  True  True False  True  True  True\n",
      "  True False False  True False  True  True  True  True False  True False\n",
      " False  True  True  True  True False False  True False  True  True False\n",
      "  True  True  True  True  True False  True  True False  True False  True\n",
      "  True  True False False  True  True  True False False  True  True False\n",
      "  True False False False False  True False False False False  True  True\n",
      "  True  True  True False False  True False  True False  True  True False\n",
      " False False False]\n"
     ]
    }
   ],
   "source": [
    "x = random.randint(range(1, 100))\n",
    "\n",
    "\n",
    "by_two= (x % 2 == 0)\n",
    "by_thre = (x % 3 == 0)\n",
    "print( by_two == True )"
   ]
  },
  {
   "cell_type": "code",
   "execution_count": 40,
   "metadata": {},
   "outputs": [
    {
     "name": "stdout",
     "output_type": "stream",
     "text": [
      "0.16762301244615718\n"
     ]
    }
   ],
   "source": [
    "x = random.rand() # generate random no between 0 and 1\n",
    "print(x)"
   ]
  },
  {
   "cell_type": "markdown",
   "metadata": {},
   "source": [
    "### Generate Random Array"
   ]
  },
  {
   "cell_type": "code",
   "execution_count": 43,
   "metadata": {},
   "outputs": [
    {
     "name": "stdout",
     "output_type": "stream",
     "text": [
      "[18 42 43 80 73]\n"
     ]
    }
   ],
   "source": [
    "x = random.randint(100, size=(5))\n",
    "print(x)"
   ]
  },
  {
   "cell_type": "code",
   "execution_count": 46,
   "metadata": {},
   "outputs": [
    {
     "name": "stdout",
     "output_type": "stream",
     "text": [
      "[[ 4 56 60]\n",
      " [67 61 59]\n",
      " [ 8  1 75]\n",
      " [32 44 17]\n",
      " [30 58 38]]\n"
     ]
    }
   ],
   "source": [
    "x = random.randint(100, size=(5,3))\n",
    "print(x)"
   ]
  },
  {
   "cell_type": "code",
   "execution_count": 49,
   "metadata": {},
   "outputs": [
    {
     "name": "stdout",
     "output_type": "stream",
     "text": [
      "[0.89356948 0.71215406 0.90909295 0.73646389 0.93972669]\n"
     ]
    }
   ],
   "source": [
    "x = random.rand(5)\n",
    "print(x)"
   ]
  },
  {
   "cell_type": "code",
   "execution_count": 52,
   "metadata": {},
   "outputs": [
    {
     "name": "stdout",
     "output_type": "stream",
     "text": [
      "[[0.45083266 0.54683571 0.87848223]\n",
      " [0.79840767 0.16111319 0.13936553]\n",
      " [0.21679216 0.50728636 0.5446674 ]\n",
      " [0.53319949 0.6210119  0.6541778 ]\n",
      " [0.87606437 0.971253   0.70113966]]\n"
     ]
    }
   ],
   "source": [
    "x = random.rand(5,3)\n",
    "print(x)"
   ]
  },
  {
   "cell_type": "code",
   "execution_count": 55,
   "metadata": {},
   "outputs": [
    {
     "name": "stdout",
     "output_type": "stream",
     "text": [
      "1\n"
     ]
    }
   ],
   "source": [
    "x = random.choice([1,23,3,4])\n",
    "print(x)"
   ]
  },
  {
   "cell_type": "code",
   "execution_count": 58,
   "metadata": {},
   "outputs": [
    {
     "name": "stdout",
     "output_type": "stream",
     "text": [
      "[[4 3 3 1 4]\n",
      " [4 3 4 1 3]\n",
      " [3 3 4 1 3]]\n"
     ]
    }
   ],
   "source": [
    "x = random.choice([1,3,4,4], size=(3,5))\n",
    "print(x)"
   ]
  }
 ],
 "metadata": {
  "kernelspec": {
   "display_name": "base",
   "language": "python",
   "name": "python3"
  },
  "language_info": {
   "codemirror_mode": {
    "name": "ipython",
    "version": 3
   },
   "file_extension": ".py",
   "mimetype": "text/x-python",
   "name": "python",
   "nbconvert_exporter": "python",
   "pygments_lexer": "ipython3",
   "version": "3.12.4"
  }
 },
 "nbformat": 4,
 "nbformat_minor": 2
}
