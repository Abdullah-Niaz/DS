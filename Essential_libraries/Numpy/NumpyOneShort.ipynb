{
 "cells": [
  {
   "cell_type": "markdown",
   "id": "04f12487-05b0-4a71-8975-00f829df93b8",
   "metadata": {},
   "source": [
    "# Phase 1"
   ]
  },
  {
   "cell_type": "code",
   "execution_count": 144,
   "id": "79c83e94-f8d2-4eab-91a0-957c4659b00f",
   "metadata": {},
   "outputs": [],
   "source": [
    "import numpy as np"
   ]
  },
  {
   "cell_type": "code",
   "execution_count": 145,
   "id": "442bad21-c2f0-4d5b-b254-9cbc385bc62b",
   "metadata": {},
   "outputs": [
    {
     "name": "stdout",
     "output_type": "stream",
     "text": [
      "1-D array:  [1 2 3 4]\n",
      "2-D array:  [[1 2 3 4]\n",
      " [5 6 7 8]]\n"
     ]
    }
   ],
   "source": [
    "arr_1d = np.array([1,2,3,4]) # 1-D array\n",
    "arr_2d = np.array([ [1,2,3,4],[5,6,7,8]]) # 2-D array\n",
    "\n",
    "print(\"1-D array: \", arr_1d)\n",
    "print(\"2-D array: \", arr_2d)"
   ]
  },
  {
   "cell_type": "code",
   "execution_count": 146,
   "id": "09b928fc-30d6-49b8-b0b5-ddfffb3495d2",
   "metadata": {},
   "outputs": [
    {
     "data": {
      "text/plain": [
       "[1, 2, 3, 4, 1, 2, 3, 4, 1, 2, 3, 4, 1, 2, 3, 4]"
      ]
     },
     "execution_count": 146,
     "metadata": {},
     "output_type": "execute_result"
    }
   ],
   "source": [
    "li = [1,2,3,4]\n",
    "li = li * 4\n",
    "li"
   ]
  },
  {
   "cell_type": "code",
   "execution_count": 147,
   "id": "9ac1631d-42af-4953-b12c-88925bf281f5",
   "metadata": {},
   "outputs": [
    {
     "name": "stdout",
     "output_type": "stream",
     "text": [
      "[ 4  8 12 16]\n",
      "[[ 4  8 12 16]\n",
      " [20 24 28 32]]\n"
     ]
    }
   ],
   "source": [
    "#  Element wise multiplication\n",
    "li1 = np.array([1,2,3,4])\n",
    "li2 = np.array([[1,2,3,4],[5,6,7,8]])\n",
    "li1 = li1 * 4\n",
    "li2 = li2 * 4\n",
    "print(li1)\n",
    "print(li2)"
   ]
  },
  {
   "cell_type": "markdown",
   "id": "7e3c6a19-ec50-4691-91aa-b097e4919b2a",
   "metadata": {},
   "source": [
    "### Classic List Multiplication & Time "
   ]
  },
  {
   "cell_type": "code",
   "execution_count": 148,
   "id": "ad73a090-3836-4c7c-ae4b-25122f8d79d0",
   "metadata": {},
   "outputs": [
    {
     "name": "stdout",
     "output_type": "stream",
     "text": [
      "Time Taken to Process 100000 array:  0.3529970645904541\n"
     ]
    }
   ],
   "source": [
    "import time \n",
    "start = time.time()\n",
    "py_list = [i*2 for i in range(1,1000000)]\n",
    "# print(py_list)\n",
    "end = time.time()\n",
    "total_time = end - start\n",
    "print(\"Time Taken to Process 100000 array: \",total_time)\n"
   ]
  },
  {
   "cell_type": "code",
   "execution_count": 149,
   "id": "b66b8052-93ad-4af3-8092-4ec2c677b366",
   "metadata": {},
   "outputs": [
    {
     "name": "stdout",
     "output_type": "stream",
     "text": [
      "Time Taken to Process 100000 array:  0.009000539779663086\n"
     ]
    }
   ],
   "source": [
    "start = time.time()\n",
    "np_array = np.arange(1000000) * 2\n",
    "end = time.time()\n",
    "total_timen = end - start\n",
    "print(\"Time Taken to Process 100000 array: \",total_timen)"
   ]
  },
  {
   "cell_type": "markdown",
   "id": "add4d017-c8d3-42a7-9cd1-fd2ff33be011",
   "metadata": {},
   "source": [
    "### Creating array from scratch"
   ]
  },
  {
   "cell_type": "code",
   "execution_count": 150,
   "id": "46430773-694b-4aa2-8a4c-59c7b2fffe71",
   "metadata": {},
   "outputs": [
    {
     "name": "stdout",
     "output_type": "stream",
     "text": [
      "Zeros Arrar: [[0. 0.]\n",
      " [0. 0.]\n",
      " [0. 0.]]\n"
     ]
    }
   ],
   "source": [
    "zeros  =np.zeros((3,2))\n",
    "print(\"Zeros Arrar:\",zeros)"
   ]
  },
  {
   "cell_type": "code",
   "execution_count": 151,
   "id": "65c86433-c41a-4994-8bc7-364db6c5374a",
   "metadata": {},
   "outputs": [
    {
     "name": "stdout",
     "output_type": "stream",
     "text": [
      "Zeros Arrar: [[1. 1.]\n",
      " [1. 1.]\n",
      " [1. 1.]]\n"
     ]
    }
   ],
   "source": [
    "ones  =np.ones((3,2))\n",
    "print(\"Zeros Arrar:\",ones)"
   ]
  },
  {
   "cell_type": "code",
   "execution_count": 152,
   "id": "b73c5b08-6360-4093-b169-285a6e67556c",
   "metadata": {},
   "outputs": [
    {
     "name": "stdout",
     "output_type": "stream",
     "text": [
      "Zeros Arrar: [[4 4]\n",
      " [4 4]\n",
      " [4 4]]\n"
     ]
    }
   ],
   "source": [
    "full  =np.full((3,2),4)\n",
    "print(\"Zeros Arrar:\",full)"
   ]
  },
  {
   "cell_type": "code",
   "execution_count": 153,
   "id": "99735ac6-ffb8-438d-907c-d8699b218f8e",
   "metadata": {},
   "outputs": [
    {
     "name": "stdout",
     "output_type": "stream",
     "text": [
      "Random:  [[0.24440802 0.52831592 0.54358307]\n",
      " [0.45571622 0.87637822 0.51365922]\n",
      " [0.54310184 0.28431829 0.0022463 ]\n",
      " [0.58094014 0.95421963 0.91607867]\n",
      " [0.51649402 0.87887606 0.97745686]\n",
      " [0.69602515 0.31874846 0.98206527]\n",
      " [0.95797347 0.4482868  0.39037288]\n",
      " [0.25518189 0.50216402 0.98350239]\n",
      " [0.73433499 0.64835425 0.70222527]\n",
      " [0.58554813 0.5158004  0.99604939]\n",
      " [0.43643992 0.34932541 0.36998263]\n",
      " [0.48413428 0.70071739 0.83736287]]\n"
     ]
    }
   ],
   "source": [
    "random = np.random.random((12,3))  # 12 rows and 3 columns\n",
    "print(\"Random: \", random)"
   ]
  },
  {
   "cell_type": "code",
   "execution_count": 154,
   "id": "6f6e91fc-3cea-49e2-a09f-35857db93c4f",
   "metadata": {},
   "outputs": [
    {
     "name": "stdout",
     "output_type": "stream",
     "text": [
      "[0 1 2 3 4 5 6 7 8 9]\n"
     ]
    }
   ],
   "source": [
    "sequence = np.arange(0,10,1)\n",
    "print(sequence)"
   ]
  },
  {
   "cell_type": "code",
   "execution_count": 155,
   "id": "aba886de-b58a-4575-8eaf-9290848ceb90",
   "metadata": {},
   "outputs": [
    {
     "name": "stdout",
     "output_type": "stream",
     "text": [
      "[[1. 0. 0. 0. 0.]\n",
      " [0. 1. 0. 0. 0.]\n",
      " [0. 0. 1. 0. 0.]\n",
      " [0. 0. 0. 1. 0.]\n",
      " [0. 0. 0. 0. 1.]]\n"
     ]
    }
   ],
   "source": [
    "eye = np.eye(5)\n",
    "print(eye)"
   ]
  },
  {
   "cell_type": "code",
   "execution_count": 156,
   "id": "8660c411-24e7-4626-a215-cb905a3a921e",
   "metadata": {},
   "outputs": [
    {
     "name": "stdout",
     "output_type": "stream",
     "text": [
      "[  0.          11.11111111  22.22222222  33.33333333  44.44444444\n",
      "  55.55555556  66.66666667  77.77777778  88.88888889 100.        ]\n"
     ]
    }
   ],
   "source": [
    "linsapce = np.linspace(0,100,10)\n",
    "print(linsapce)"
   ]
  },
  {
   "cell_type": "code",
   "execution_count": 157,
   "id": "366511dd-9961-4a00-a612-48e67fcc2634",
   "metadata": {},
   "outputs": [
    {
     "name": "stdout",
     "output_type": "stream",
     "text": [
      "[[0.31323832 0.94146645 0.72380888 0.44056536 0.80043805]\n",
      " [0.4798298  0.70812463 0.89037391 0.97904636 0.82413568]\n",
      " [0.95037736 0.94826133 0.86800146 0.05337247 0.29409932]\n",
      " [0.55879085 0.61724128 0.96091265 0.35938941 0.89852732]]\n"
     ]
    }
   ],
   "source": [
    "ran = np.random.rand(4,5)\n",
    "print(ran)"
   ]
  },
  {
   "cell_type": "markdown",
   "id": "14595fa7-c08c-4b85-8363-93bc80f35e82",
   "metadata": {},
   "source": [
    "### Vector, Matrix, Tensor"
   ]
  },
  {
   "cell_type": "code",
   "execution_count": 158,
   "id": "c16ce576-c1e8-4333-944f-86a63b0e48e0",
   "metadata": {},
   "outputs": [
    {
     "name": "stdout",
     "output_type": "stream",
     "text": [
      "vector:  [1 2 3 4]\n"
     ]
    }
   ],
   "source": [
    "vector = np.array([1,2,3,4]) # vector \n",
    "print(\"vector: \", vector)"
   ]
  },
  {
   "cell_type": "code",
   "execution_count": 159,
   "id": "4eecd099-2cc2-4beb-bec2-ff0b9f687f21",
   "metadata": {},
   "outputs": [
    {
     "name": "stdout",
     "output_type": "stream",
     "text": [
      "matrix:  [[1 2 3]\n",
      " [5 6 7]]\n"
     ]
    }
   ],
   "source": [
    "matrix = np.array([[1,2,3],[5,6,7]])\n",
    "print(\"matrix: \" , matrix)"
   ]
  },
  {
   "cell_type": "code",
   "execution_count": 160,
   "id": "4de69e36-0752-4ea8-a5d0-b199527076ca",
   "metadata": {},
   "outputs": [
    {
     "name": "stdout",
     "output_type": "stream",
     "text": [
      "Tensor:  [[[1 2]\n",
      "  [3 4]\n",
      "  [5 6]\n",
      "  [7 8]]]\n"
     ]
    }
   ],
   "source": [
    "tensor = np.array([[\n",
    "    [1,2],[3,4],\n",
    "    [5,6],[7,8]\n",
    "]])\n",
    "print(\"Tensor: \", tensor)"
   ]
  },
  {
   "cell_type": "markdown",
   "id": "a5efeae4-06b2-4533-891f-4028a907bc69",
   "metadata": {},
   "source": [
    "### Array properties"
   ]
  },
  {
   "cell_type": "code",
   "execution_count": 161,
   "id": "5b5f254e-d94c-4c2c-a9ce-4e6496bca614",
   "metadata": {},
   "outputs": [],
   "source": [
    "arr = np.array([\n",
    "    [1,2,3],[4,5,6]\n",
    "])"
   ]
  },
  {
   "cell_type": "code",
   "execution_count": 162,
   "id": "fd913f70-f486-4a03-aec9-5b356fa5c874",
   "metadata": {},
   "outputs": [
    {
     "data": {
      "text/plain": [
       "(2, 3)"
      ]
     },
     "execution_count": 162,
     "metadata": {},
     "output_type": "execute_result"
    }
   ],
   "source": [
    "arr.shape"
   ]
  },
  {
   "cell_type": "code",
   "execution_count": 163,
   "id": "7889b440-9422-44cd-90a8-df497c134198",
   "metadata": {},
   "outputs": [
    {
     "data": {
      "text/plain": [
       "6"
      ]
     },
     "execution_count": 163,
     "metadata": {},
     "output_type": "execute_result"
    }
   ],
   "source": [
    "arr.size"
   ]
  },
  {
   "cell_type": "code",
   "execution_count": 164,
   "id": "f4ee69c6-d1ac-4161-844c-8b709980771b",
   "metadata": {},
   "outputs": [
    {
     "data": {
      "text/plain": [
       "2"
      ]
     },
     "execution_count": 164,
     "metadata": {},
     "output_type": "execute_result"
    }
   ],
   "source": [
    "arr.ndim"
   ]
  },
  {
   "cell_type": "code",
   "execution_count": 165,
   "id": "3048d7c6-2e9e-41fa-8584-8fb9f8092076",
   "metadata": {},
   "outputs": [
    {
     "data": {
      "text/plain": [
       "dtype('int32')"
      ]
     },
     "execution_count": 165,
     "metadata": {},
     "output_type": "execute_result"
    }
   ],
   "source": [
    "arr.dtype"
   ]
  },
  {
   "cell_type": "code",
   "execution_count": 166,
   "id": "92ce0f42-0379-4811-b08e-e8a3594ae27f",
   "metadata": {},
   "outputs": [
    {
     "data": {
      "text/plain": [
       "dtype('int32')"
      ]
     },
     "execution_count": 166,
     "metadata": {},
     "output_type": "execute_result"
    }
   ],
   "source": [
    "arr.dtype"
   ]
  },
  {
   "cell_type": "code",
   "execution_count": 167,
   "id": "35077ab4-b07f-4483-8564-e53bc2294b36",
   "metadata": {},
   "outputs": [
    {
     "data": {
      "text/plain": [
       "[[1, 2, 3], [4, 5, 6]]"
      ]
     },
     "execution_count": 167,
     "metadata": {},
     "output_type": "execute_result"
    }
   ],
   "source": [
    "arr.tolist()"
   ]
  },
  {
   "cell_type": "code",
   "execution_count": 168,
   "id": "13ed80b0-34b0-442d-bc60-a7a42e5c70d9",
   "metadata": {},
   "outputs": [
    {
     "data": {
      "text/plain": [
       "numpy.ndarray"
      ]
     },
     "execution_count": 168,
     "metadata": {},
     "output_type": "execute_result"
    }
   ],
   "source": [
    "type(arr)"
   ]
  },
  {
   "cell_type": "code",
   "execution_count": 169,
   "id": "368bec60-1a1b-4b33-be47-75de68341dd9",
   "metadata": {},
   "outputs": [
    {
     "name": "stdout",
     "output_type": "stream",
     "text": [
      "ALLOW_THREADS BUFSIZE CLIP DataSource ERR_CALL ERR_DEFAULT ERR_IGNORE ERR_LOG ERR_PRINT ERR_RAISE ERR_WARN FLOATING_POINT_SUPPORT FPE_DIVIDEBYZERO FPE_INVALID FPE_OVERFLOW FPE_UNDERFLOW False_ Inf Infinity MAXDIMS MAY_SHARE_BOUNDS MAY_SHARE_EXACT NAN NINF NZERO NaN PINF PZERO RAISE RankWarning SHIFT_DIVIDEBYZERO SHIFT_INVALID SHIFT_OVERFLOW SHIFT_UNDERFLOW ScalarType True_ UFUNC_BUFSIZE_DEFAULT UFUNC_PYVALS_NAME WRAP _CopyMode _NoValue _UFUNC_API __NUMPY_SETUP__ __all__ __builtins__ __cached__ __config__ __deprecated_attrs__ __dir__ __doc__ __expired_functions__ __file__ __former_attrs__ __future_scalars__ __getattr__ __loader__ __name__ __package__ __path__ __spec__ __version__ _add_newdoc_ufunc _builtins _distributor_init _financial_names _get_promotion_state _globals _int_extended_msg _mat _no_nep50_warning _pyinstaller_hooks_dir _pytesttester _set_promotion_state _specific_msg _typing _using_numpy2_behavior _utils abs absolute add add_docstring add_newdoc add_newdoc_ufunc all allclose alltrue amax amin angle any append apply_along_axis apply_over_axes arange arccos arccosh arcsin arcsinh arctan arctan2 arctanh argmax argmin argpartition argsort argwhere around array array2string array_equal array_equiv array_repr array_split array_str asanyarray asarray asarray_chkfinite ascontiguousarray asfarray asfortranarray asmatrix atleast_1d atleast_2d atleast_3d average bartlett base_repr binary_repr bincount bitwise_and bitwise_not bitwise_or bitwise_xor blackman block bmat bool_ broadcast broadcast_arrays broadcast_shapes broadcast_to busday_count busday_offset busdaycalendar byte byte_bounds bytes_ c_ can_cast cast cbrt cdouble ceil cfloat char character chararray choose clip clongdouble clongfloat column_stack common_type compare_chararrays compat complex128 complex64 complex_ complexfloating compress concatenate conj conjugate convolve copy copysign copyto corrcoef correlate cos cosh count_nonzero cov cross csingle ctypeslib cumprod cumproduct cumsum datetime64 datetime_as_string datetime_data deg2rad degrees delete deprecate deprecate_with_doc diag diag_indices diag_indices_from diagflat diagonal diff digitize disp divide divmod dot double dsplit dstack dtype dtypes e ediff1d einsum einsum_path emath empty empty_like equal errstate euler_gamma exceptions exp exp2 expand_dims expm1 extract eye fabs fastCopyAndTranspose fft fill_diagonal find_common_type finfo fix flatiter flatnonzero flexible flip fliplr flipud float16 float32 float64 float_ float_power floating floor floor_divide fmax fmin fmod format_float_positional format_float_scientific format_parser frexp from_dlpack frombuffer fromfile fromfunction fromiter frompyfunc fromregex fromstring full full_like gcd generic genfromtxt geomspace get_array_wrap get_include get_printoptions getbufsize geterr geterrcall geterrobj gradient greater greater_equal half hamming hanning heaviside histogram histogram2d histogram_bin_edges histogramdd hsplit hstack hypot i0 identity iinfo imag in1d index_exp indices inexact inf info infty inner insert int16 int32 int64 int8 int_ intc integer interp intersect1d intp invert is_busday isclose iscomplex iscomplexobj isfinite isfortran isin isinf isnan isnat isneginf isposinf isreal isrealobj isscalar issctype issubclass_ issubdtype issubsctype iterable ix_ kaiser kron lcm ldexp left_shift less less_equal lexsort lib linalg linspace little_endian load loadtxt log log10 log1p log2 logaddexp logaddexp2 logical_and logical_not logical_or logical_xor logspace longcomplex longdouble longfloat longlong lookfor ma mask_indices mat matmul matrix max maximum maximum_sctype may_share_memory mean median memmap meshgrid mgrid min min_scalar_type minimum mintypecode mod modf moveaxis msort multiply nan nan_to_num nanargmax nanargmin nancumprod nancumsum nanmax nanmean nanmedian nanmin nanpercentile nanprod nanquantile nanstd nansum nanvar nbytes ndarray ndenumerate ndim ndindex nditer negative nested_iters newaxis nextafter nonzero not_equal numarray number obj2sctype object_ ogrid oldnumeric ones ones_like outer packbits pad partition percentile pi piecewise place poly poly1d polyadd polyder polydiv polyfit polyint polymul polynomial polysub polyval positive power printoptions prod product promote_types ptp put put_along_axis putmask quantile r_ rad2deg radians random ravel ravel_multi_index real real_if_close rec recarray recfromcsv recfromtxt reciprocal record remainder repeat require reshape resize result_type right_shift rint roll rollaxis roots rot90 round round_ row_stack s_ safe_eval save savetxt savez savez_compressed sctype2char sctypeDict sctypes searchsorted select set_numeric_ops set_printoptions set_string_function setbufsize setdiff1d seterr seterrcall seterrobj setxor1d shape shares_memory short show_config show_runtime sign signbit signedinteger sin sinc single singlecomplex sinh size sometrue sort sort_complex source spacing split sqrt square squeeze stack std str_ string_ subtract sum swapaxes take take_along_axis tan tanh tensordot test testing tile timedelta64 trace tracemalloc_domain transpose trapz tri tril tril_indices tril_indices_from trim_zeros triu triu_indices triu_indices_from true_divide trunc typecodes typename ubyte ufunc uint uint16 uint32 uint64 uint8 uintc uintp ulonglong unicode_ union1d unique unpackbits unravel_index unsignedinteger unwrap ushort vander var vdot vectorize version void vsplit vstack where who zeros zeros_like "
     ]
    }
   ],
   "source": [
    "list = [print(i,end=' ')for i in dir(np)]"
   ]
  },
  {
   "cell_type": "markdown",
   "id": "8a1e5d53-a0d0-4546-b7da-c0acc38bc53e",
   "metadata": {},
   "source": [
    "### Array Reshaping/Copying/Reshaping"
   ]
  },
  {
   "cell_type": "code",
   "execution_count": 170,
   "id": "2499701a-3376-4ea2-88c9-3fee9ea96a48",
   "metadata": {},
   "outputs": [
    {
     "name": "stdout",
     "output_type": "stream",
     "text": [
      "[0 1 2 3 4 5 6 7 8 9] (10,)\n"
     ]
    }
   ],
   "source": [
    "arr = np.arange(10)\n",
    "print(arr, arr.shape)"
   ]
  },
  {
   "cell_type": "code",
   "execution_count": 171,
   "id": "b1c0899f-58a1-4656-b669-13424bd11e31",
   "metadata": {},
   "outputs": [
    {
     "name": "stdout",
     "output_type": "stream",
     "text": [
      "Reshaped Array:  [[0 1 2 3 4]\n",
      " [5 6 7 8 9]]\n"
     ]
    }
   ],
   "source": [
    "reshaped = arr.reshape((2,5))\n",
    "print(\"Reshaped Array: \" , reshaped)"
   ]
  },
  {
   "cell_type": "code",
   "execution_count": 172,
   "id": "1ef24a19-559c-416d-8cb2-817a496808e9",
   "metadata": {},
   "outputs": [
    {
     "name": "stdout",
     "output_type": "stream",
     "text": [
      "Flattened Array:  [ 0  2  4  6  8 10 12 14 16 18]\n"
     ]
    }
   ],
   "source": [
    "flattened = reshaped.flatten() * 2 # return a copy of array\n",
    "print(\"Flattened Array: \", flattened)"
   ]
  },
  {
   "cell_type": "code",
   "execution_count": 173,
   "id": "c6f9d353-27d2-4625-8995-97199d71f37a",
   "metadata": {},
   "outputs": [
    {
     "name": "stdout",
     "output_type": "stream",
     "text": [
      "Ravled Array:  [0 1 2 3 4 5 6 7 8 9]\n"
     ]
    }
   ],
   "source": [
    "raveled = reshaped.ravel()  # always return a orignal array\n",
    "print(\"Ravled Array: \", raveled)"
   ]
  },
  {
   "cell_type": "code",
   "execution_count": 174,
   "id": "91b313e4-7ba3-4893-a016-a8fd0ccec998",
   "metadata": {},
   "outputs": [
    {
     "data": {
      "text/plain": [
       "array([0, 1, 2, 3, 4, 5, 6, 7, 8, 9])"
      ]
     },
     "execution_count": 174,
     "metadata": {},
     "output_type": "execute_result"
    }
   ],
   "source": [
    "arr1 = np.copy(arr)\n",
    "arr1"
   ]
  },
  {
   "cell_type": "code",
   "execution_count": 175,
   "id": "5bfb99fb-f46d-455c-bfd0-5331dae5701c",
   "metadata": {},
   "outputs": [
    {
     "data": {
      "text/plain": [
       "array([0, 1, 2, 3, 4, 5, 6, 7, 8, 9])"
      ]
     },
     "execution_count": 175,
     "metadata": {},
     "output_type": "execute_result"
    }
   ],
   "source": [
    "np.sort(arr1)"
   ]
  },
  {
   "cell_type": "markdown",
   "id": "d75ff763-72f9-4870-9830-ecad716aea48",
   "metadata": {},
   "source": [
    "### Transpose"
   ]
  },
  {
   "cell_type": "code",
   "execution_count": 176,
   "id": "b9f78be7-b1e6-4117-978d-0416442eade5",
   "metadata": {},
   "outputs": [
    {
     "data": {
      "text/plain": [
       "array([[0, 1, 2, 3, 4],\n",
       "       [5, 6, 7, 8, 9]])"
      ]
     },
     "execution_count": 176,
     "metadata": {},
     "output_type": "execute_result"
    }
   ],
   "source": [
    "reshaped"
   ]
  },
  {
   "cell_type": "code",
   "execution_count": 177,
   "id": "e417a86b-e7fd-4767-bdd4-f40b327d70a3",
   "metadata": {},
   "outputs": [
    {
     "name": "stdout",
     "output_type": "stream",
     "text": [
      "Transposed array:  [[0 5]\n",
      " [1 6]\n",
      " [2 7]\n",
      " [3 8]\n",
      " [4 9]]\n"
     ]
    }
   ],
   "source": [
    "transposed = reshaped.transpose()\n",
    "print(\"Transposed array: \", transposed)"
   ]
  },
  {
   "cell_type": "code",
   "execution_count": 178,
   "id": "d503ed6e-fd86-4733-81ae-d77087023fd3",
   "metadata": {},
   "outputs": [
    {
     "data": {
      "text/plain": [
       "array([ 0,  1,  2,  3,  4,  5,  6,  7,  8,  9, 20])"
      ]
     },
     "execution_count": 178,
     "metadata": {},
     "output_type": "execute_result"
    }
   ],
   "source": [
    "np.append(arr1,20)"
   ]
  },
  {
   "cell_type": "code",
   "execution_count": 179,
   "id": "40b34cb9-cedb-4325-902a-7a732144998b",
   "metadata": {},
   "outputs": [
    {
     "data": {
      "text/plain": [
       "array([ 0,  1, 23,  2,  3,  4,  5,  6,  7,  8,  9])"
      ]
     },
     "execution_count": 179,
     "metadata": {},
     "output_type": "execute_result"
    }
   ],
   "source": [
    "np.insert(arr1,2,23)"
   ]
  },
  {
   "cell_type": "code",
   "execution_count": 180,
   "id": "92dbbc1e-e2ea-49f2-a0b8-de8a979a2219",
   "metadata": {},
   "outputs": [
    {
     "data": {
      "text/plain": [
       "array([0, 1, 3, 4, 5, 6, 7, 8, 9])"
      ]
     },
     "execution_count": 180,
     "metadata": {},
     "output_type": "execute_result"
    }
   ],
   "source": [
    "np.delete(arr1,2)"
   ]
  },
  {
   "cell_type": "markdown",
   "id": "08076a79-29a6-49a8-9959-cdd0c0ec014b",
   "metadata": {},
   "source": [
    "### Combining & Spliting"
   ]
  },
  {
   "cell_type": "code",
   "execution_count": 181,
   "id": "ca15078d-d622-4397-b873-06c886987362",
   "metadata": {},
   "outputs": [
    {
     "data": {
      "text/plain": [
       "array([1, 2, 3, 4, 5, 6])"
      ]
     },
     "execution_count": 181,
     "metadata": {},
     "output_type": "execute_result"
    }
   ],
   "source": [
    "arr1 = np.array([1,2,3])\n",
    "arr2 = np.array([4,5,6])\n",
    "np.concatenate((arr1, arr2)) # concatenating array by tuple\n",
    "np.concatenate([arr1, arr2]) # concatenating array by list"
   ]
  },
  {
   "cell_type": "code",
   "execution_count": 182,
   "id": "3e430276-7fd5-413c-9568-ad124adec49a",
   "metadata": {},
   "outputs": [
    {
     "name": "stdout",
     "output_type": "stream",
     "text": [
      "[array([[1, 2, 3, 4, 5, 6]]), array([[ 7,  8,  9, 10, 11, 12]])]\n"
     ]
    }
   ],
   "source": [
    "arrTesting = np.array([[1,2,3,4,5,6],[7,8,9,10,11,12]])\n",
    "arr1  = np.split(arrTesting,2)\n",
    "print(arr1)"
   ]
  },
  {
   "cell_type": "code",
   "execution_count": 183,
   "id": "f0829093-8144-49b9-91af-59d8a4d7447e",
   "metadata": {},
   "outputs": [
    {
     "name": "stdout",
     "output_type": "stream",
     "text": [
      "[array([[1, 2],\n",
      "       [7, 8]]), array([[ 3,  4],\n",
      "       [ 9, 10]]), array([[ 5,  6],\n",
      "       [11, 12]])]\n"
     ]
    }
   ],
   "source": [
    "arrTesting = np.array([[1,2,3,4,5,6],[7,8,9,10,11,12]])\n",
    "arr1  = np.hsplit(arrTesting,3)\n",
    "print(arr1)"
   ]
  },
  {
   "cell_type": "code",
   "execution_count": 184,
   "id": "1881deb6-ee95-4598-a56d-50d8ee3f496c",
   "metadata": {},
   "outputs": [
    {
     "data": {
      "text/plain": [
       "'\\n    Split an array into multiple sub-arrays as views into `ary`.\\n\\n    Parameters\\n    ----------\\n    ary : ndarray\\n        Array to be divided into sub-arrays.\\n    indices_or_sections : int or 1-D array\\n        If `indices_or_sections` is an integer, N, the array will be divided\\n        into N equal arrays along `axis`.  If such a split is not possible,\\n        an error is raised.\\n\\n        If `indices_or_sections` is a 1-D array of sorted integers, the entries\\n        indicate where along `axis` the array is split.  For example,\\n        ``[2, 3]`` would, for ``axis=0``, result in\\n\\n          - ary[:2]\\n          - ary[2:3]\\n          - ary[3:]\\n\\n        If an index exceeds the dimension of the array along `axis`,\\n        an empty sub-array is returned correspondingly.\\n    axis : int, optional\\n        The axis along which to split, default is 0.\\n\\n    Returns\\n    -------\\n    sub-arrays : list of ndarrays\\n        A list of sub-arrays as views into `ary`.\\n\\n    Raises\\n    ------\\n    ValueError\\n        If `indices_or_sections` is given as an integer, but\\n        a split does not result in equal division.\\n\\n    See Also\\n    --------\\n    array_split : Split an array into multiple sub-arrays of equal or\\n                  near-equal size.  Does not raise an exception if\\n                  an equal division cannot be made.\\n    hsplit : Split array into multiple sub-arrays horizontally (column-wise).\\n    vsplit : Split array into multiple sub-arrays vertically (row wise).\\n    dsplit : Split array into multiple sub-arrays along the 3rd axis (depth).\\n    concatenate : Join a sequence of arrays along an existing axis.\\n    stack : Join a sequence of arrays along a new axis.\\n    hstack : Stack arrays in sequence horizontally (column wise).\\n    vstack : Stack arrays in sequence vertically (row wise).\\n    dstack : Stack arrays in sequence depth wise (along third dimension).\\n\\n    Examples\\n    --------\\n    >>> x = np.arange(9.0)\\n    >>> np.split(x, 3)\\n    [array([0.,  1.,  2.]), array([3.,  4.,  5.]), array([6.,  7.,  8.])]\\n\\n    >>> x = np.arange(8.0)\\n    >>> np.split(x, [3, 5, 6, 10])\\n    [array([0.,  1.,  2.]),\\n     array([3.,  4.]),\\n     array([5.]),\\n     array([6.,  7.]),\\n     array([], dtype=float64)]\\n\\n    '"
      ]
     },
     "execution_count": 184,
     "metadata": {},
     "output_type": "execute_result"
    }
   ],
   "source": [
    "np.split.__doc__"
   ]
  },
  {
   "cell_type": "markdown",
   "id": "99156fc4-cf1a-477b-943e-d193afa6c998",
   "metadata": {},
   "source": [
    "# Phase 2"
   ]
  },
  {
   "cell_type": "markdown",
   "id": "794c9b47-8490-46fe-95dd-f3531787e5e5",
   "metadata": {},
   "source": [
    "## Numpy array  operations"
   ]
  },
  {
   "cell_type": "code",
   "execution_count": 185,
   "id": "d61f8090-a532-4188-a3a5-3794d63d41f1",
   "metadata": {},
   "outputs": [],
   "source": [
    "arr = np.array([1,2,3,4])"
   ]
  },
  {
   "cell_type": "code",
   "execution_count": 186,
   "id": "1afca92b-81e5-41a5-bec0-50aedbf584ca",
   "metadata": {},
   "outputs": [
    {
     "data": {
      "text/plain": [
       "array([2, 3, 4])"
      ]
     },
     "execution_count": 186,
     "metadata": {},
     "output_type": "execute_result"
    }
   ],
   "source": [
    "arr[1:5]"
   ]
  },
  {
   "cell_type": "code",
   "execution_count": 187,
   "id": "5f59b222-1c1c-4d98-8398-599d1db7ce73",
   "metadata": {},
   "outputs": [
    {
     "data": {
      "text/plain": [
       "2"
      ]
     },
     "execution_count": 187,
     "metadata": {},
     "output_type": "execute_result"
    }
   ],
   "source": [
    "arr[1]"
   ]
  },
  {
   "cell_type": "code",
   "execution_count": 188,
   "id": "0a10a33a-f080-4640-bf1a-8436e804266a",
   "metadata": {},
   "outputs": [
    {
     "data": {
      "text/plain": [
       "array([1, 3])"
      ]
     },
     "execution_count": 188,
     "metadata": {},
     "output_type": "execute_result"
    }
   ],
   "source": [
    "arr[0::2]"
   ]
  },
  {
   "cell_type": "code",
   "execution_count": 189,
   "id": "63aec61d-62e8-4ac6-9431-1c6050a3a1d0",
   "metadata": {},
   "outputs": [
    {
     "data": {
      "text/plain": [
       "4"
      ]
     },
     "execution_count": 189,
     "metadata": {},
     "output_type": "execute_result"
    }
   ],
   "source": [
    "arr[-1]"
   ]
  },
  {
   "cell_type": "code",
   "execution_count": 190,
   "id": "e4f41d84-d73b-45c5-8101-65921a9c3005",
   "metadata": {},
   "outputs": [],
   "source": [
    "arr = np.array([\n",
    "    [1,2,3],\n",
    "    [4,5,6],\n",
    "    [7,8,9]\n",
    "])"
   ]
  },
  {
   "cell_type": "code",
   "execution_count": 191,
   "id": "f77b5294-e52c-4b50-9546-4978c4d30ddc",
   "metadata": {},
   "outputs": [
    {
     "data": {
      "text/plain": [
       "6"
      ]
     },
     "execution_count": 191,
     "metadata": {},
     "output_type": "execute_result"
    }
   ],
   "source": [
    "arr[1][2]"
   ]
  },
  {
   "cell_type": "code",
   "execution_count": 192,
   "id": "b549d486-6d4c-4ebd-91a5-32a2f4b6565c",
   "metadata": {},
   "outputs": [
    {
     "data": {
      "text/plain": [
       "6"
      ]
     },
     "execution_count": 192,
     "metadata": {},
     "output_type": "execute_result"
    }
   ],
   "source": [
    "arr[1,2]"
   ]
  },
  {
   "cell_type": "code",
   "execution_count": 193,
   "id": "f194d436-997a-447a-81be-c77f5169a05e",
   "metadata": {},
   "outputs": [
    {
     "data": {
      "text/plain": [
       "array([4, 5, 6])"
      ]
     },
     "execution_count": 193,
     "metadata": {},
     "output_type": "execute_result"
    }
   ],
   "source": [
    "arr[1]"
   ]
  },
  {
   "cell_type": "code",
   "execution_count": 194,
   "id": "aed50719-b20b-4ba4-a82a-b0ef7eb39fb7",
   "metadata": {},
   "outputs": [
    {
     "data": {
      "text/plain": [
       "array([3, 6, 9])"
      ]
     },
     "execution_count": 194,
     "metadata": {},
     "output_type": "execute_result"
    }
   ],
   "source": [
    "arr[:,2]"
   ]
  },
  {
   "cell_type": "markdown",
   "id": "677a45a9-4045-4a03-9b7e-4bee58678c9b",
   "metadata": {},
   "source": [
    "### Sorting"
   ]
  },
  {
   "cell_type": "code",
   "execution_count": 195,
   "id": "e5f5da77-77b9-4dfe-8e48-a5722326a44c",
   "metadata": {},
   "outputs": [],
   "source": [
    "unsorted = np.array([33,23,22,12,11])"
   ]
  },
  {
   "cell_type": "code",
   "execution_count": 196,
   "id": "7db87534-bb57-4184-978c-0f28ab3052d0",
   "metadata": {},
   "outputs": [],
   "source": [
    "sorted = np.sort(unsorted)"
   ]
  },
  {
   "cell_type": "code",
   "execution_count": 197,
   "id": "10d43a68-41b0-4b09-aabe-82461ecb914f",
   "metadata": {},
   "outputs": [
    {
     "data": {
      "text/plain": [
       "array([11, 12, 22, 23, 33])"
      ]
     },
     "execution_count": 197,
     "metadata": {},
     "output_type": "execute_result"
    }
   ],
   "source": [
    "sorted"
   ]
  },
  {
   "cell_type": "code",
   "execution_count": 198,
   "id": "1c8e6195-04d7-4cdf-981e-7de004d33e05",
   "metadata": {},
   "outputs": [],
   "source": [
    "unsorted = np.array([[33,23,22,12,11],[55,50,44,87,70]])"
   ]
  },
  {
   "cell_type": "code",
   "execution_count": 199,
   "id": "4aa483b5-59e8-4a86-a7eb-ee64d8f80df7",
   "metadata": {},
   "outputs": [
    {
     "name": "stdout",
     "output_type": "stream",
     "text": [
      "Row wise Sorting: \n",
      " [[11 12 22 23 33]\n",
      " [44 50 55 70 87]]\n"
     ]
    }
   ],
   "source": [
    "# Row wise sorting \n",
    "row_sorted = np.sort(unsorted, axis=1)\n",
    "print(\"Row wise Sorting: \\n\", row_sorted)"
   ]
  },
  {
   "cell_type": "code",
   "execution_count": 200,
   "id": "1e11c16e-a8c3-4c48-a9ea-35fb0f5a291e",
   "metadata": {},
   "outputs": [
    {
     "name": "stdout",
     "output_type": "stream",
     "text": [
      "Unsorted: \n",
      " [[33 23 22 12 11]\n",
      " [55 50 44 87 70]]\n",
      "Column wise Sorted: \n",
      " [[33 23 22 12 11]\n",
      " [55 50 44 87 70]]\n"
     ]
    }
   ],
   "source": [
    "# column wise sorting\n",
    "column_sorted = np.sort(unsorted, axis = 0 ) \n",
    "print(\"Unsorted: \\n\", unsorted)\n",
    "print(\"Column wise Sorted: \\n\", column_sorted)"
   ]
  },
  {
   "cell_type": "markdown",
   "id": "daaaa220-0ad2-4110-ad77-5ac716f5a837",
   "metadata": {},
   "source": [
    "# Filters \n"
   ]
  },
  {
   "cell_type": "code",
   "execution_count": 201,
   "id": "6fd04f98-f82c-47f8-b4cb-2ac48b721996",
   "metadata": {},
   "outputs": [
    {
     "name": "stdout",
     "output_type": "stream",
     "text": [
      "[ 2  4  6  8 10]\n"
     ]
    }
   ],
   "source": [
    "numbers = np.array([1,2,3,4,5,6,7,8,9,10])\n",
    "even_no = numbers[numbers % 2 == 0 ]\n",
    "print(even_no)"
   ]
  },
  {
   "cell_type": "code",
   "execution_count": 202,
   "id": "023c603f-59d4-4f74-93db-aba5f3dd54fb",
   "metadata": {},
   "outputs": [
    {
     "name": "stdout",
     "output_type": "stream",
     "text": [
      "Numbers Greater than 5  [ 6  7  8  9 10]\n"
     ]
    }
   ],
   "source": [
    "mask = numbers > 5\n",
    "print(\"Numbers Greater than 5 \", numbers[mask])"
   ]
  },
  {
   "cell_type": "code",
   "execution_count": 203,
   "id": "544c0e68-dfdd-4564-88f9-7374fdb9f294",
   "metadata": {},
   "outputs": [
    {
     "name": "stdout",
     "output_type": "stream",
     "text": [
      "(array([5, 6, 7, 8, 9], dtype=int64),)\n"
     ]
    }
   ],
   "source": [
    "where_result = np.where(numbers > 5)\n",
    "print(where_result)"
   ]
  },
  {
   "cell_type": "markdown",
   "id": "2526aa3b-59b6-4200-bfe6-2df79a349906",
   "metadata": {},
   "source": [
    "# Phase 3"
   ]
  },
  {
   "cell_type": "code",
   "execution_count": 204,
   "id": "0c580997-0e84-44a4-92b4-664265fd90cc",
   "metadata": {},
   "outputs": [],
   "source": [
    "# Data structure: [restaurant_id, 2021, 2022, 2023, 2024]\n",
    "sales_data = np.array([\n",
    "    [1, 150000, 180000, 220000, 250000],  # Paradise Biryani\n",
    "    [2, 120000, 140000, 160000, 190000],  # Beijing Bites\n",
    "    [3, 200000, 230000, 260000, 300000],  # Pizza Hub\n",
    "    [4, 180000, 210000, 240000, 270000],  # Burger Point\n",
    "    [5, 160000, 185000, 205000, 230000]   # Chai Point\n",
    "])"
   ]
  },
  {
   "cell_type": "code",
   "execution_count": 209,
   "id": "2272bec1-ea35-4849-a856-69e9ed831348",
   "metadata": {},
   "outputs": [
    {
     "name": "stdout",
     "output_type": "stream",
     "text": [
      "Saled Data Shape:  (5, 5)\n",
      "Sample data for 1st 3 resturants: \n",
      " [[     1 150000 180000 220000 250000]\n",
      " [     2 120000 140000 160000 190000]\n",
      " [     3 200000 230000 260000 300000]]\n"
     ]
    }
   ],
   "source": [
    " print(\"Saled Data Shape: \", sales_data.shape)\n",
    "print(\"Sample data for 1st 3 resturants: \\n\" , sales_data[:3])\n",
    " "
   ]
  },
  {
   "cell_type": "code",
   "execution_count": 212,
   "id": "9229f5cd-98d4-49aa-b5e4-a4f8359de378",
   "metadata": {},
   "outputs": [
    {
     "name": "stdout",
     "output_type": "stream",
     "text": [
      "[[150000 180000 220000 250000]\n",
      " [120000 140000 160000 190000]\n",
      " [200000 230000 260000 300000]\n",
      " [180000 210000 240000 270000]\n",
      " [160000 185000 205000 230000]]\n"
     ]
    }
   ],
   "source": [
    "print(sales_data[:,1:])"
   ]
  },
  {
   "cell_type": "code",
   "execution_count": 221,
   "id": "161f2786-9d36-4250-898e-d9e584af9d8d",
   "metadata": {},
   "outputs": [
    {
     "name": "stdout",
     "output_type": "stream",
     "text": [
      "[800001 610002 990003 900004 780005]\n",
      "[     15  810000  945000 1085000 1240000]\n"
     ]
    }
   ],
   "source": [
    "# Sum up \n",
    "print(np.sum(sales_data,axis = 1)) # rowwise\n",
    "print(np.sum(sales_data, axis = 0 )) # columnwise"
   ]
  },
  {
   "cell_type": "code",
   "execution_count": 223,
   "id": "d42614d2-6595-4f7b-8387-d9df9ab2336e",
   "metadata": {},
   "outputs": [
    {
     "name": "stdout",
     "output_type": "stream",
     "text": [
      "[     15  810000  945000 1085000 1240000]\n",
      "[ 810000  945000 1085000 1240000]\n"
     ]
    }
   ],
   "source": [
    "print(np.sum(sales_data, axis = 0 ))\n",
    "year_total = np.sum(sales_data[:, 1:], axis = 0 )\n",
    "print(year_total)"
   ]
  },
  {
   "cell_type": "code",
   "execution_count": 228,
   "id": "cdc28822-5838-468e-95c8-9af777a5a2bd",
   "metadata": {},
   "outputs": [
    {
     "name": "stdout",
     "output_type": "stream",
     "text": [
      "Minmum sales Resturant [150000 120000 200000 180000 160000]\n",
      "[1 2 3 4 5]\n"
     ]
    }
   ],
   "source": [
    "print(\"Minmum sales Resturant Rows: \",np.min(sales_data[:,1:], axis = 1 ))\n",
    "print(np.min(sales_data, axis = 1))"
   ]
  },
  {
   "cell_type": "code",
   "execution_count": 231,
   "id": "5c0f9bbb-275b-4a62-896b-c69a8bb51258",
   "metadata": {},
   "outputs": [
    {
     "name": "stdout",
     "output_type": "stream",
     "text": [
      "Minmum sales Resturant Column:  [120000 140000 160000 190000]\n",
      "[1 2 3 4 5]\n"
     ]
    }
   ],
   "source": [
    "print(\"Minmum sales Resturant Column: \",np.min(sales_data[:,1:], axis = 0 ))\n",
    "print(np.min(sales_data, axis = 1))"
   ]
  },
  {
   "cell_type": "code",
   "execution_count": 233,
   "id": "adc156d8-095c-4305-bddf-09d2748d3a4e",
   "metadata": {},
   "outputs": [],
   "source": [
    "array1  = np.array([\n",
    "    [1,2,3],\n",
    "    [4,5,6]\n",
    "])\n",
    "np.save(\"array1.npy\", array1)"
   ]
  },
  {
   "cell_type": "code",
   "execution_count": 235,
   "id": "f270f797-631c-4f29-af7f-c5ba31888aef",
   "metadata": {},
   "outputs": [
    {
     "name": "stdout",
     "output_type": "stream",
     "text": [
      "[[1 2 3]\n",
      " [4 5 6]]\n"
     ]
    }
   ],
   "source": [
    "print(np.load(\"array1.npy\"))"
   ]
  },
  {
   "cell_type": "code",
   "execution_count": 243,
   "id": "7e67fc82-f0b2-4bfb-8dde-ae61316eef79",
   "metadata": {},
   "outputs": [
    {
     "data": {
      "image/png": "[encoded data removed]",
      "text/plain": [
       "<Figure size 1200x500 with 2 Axes>"
      ]
     },
     "metadata": {},
     "output_type": "display_data"
    }
   ],
   "source": [
    "import matplotlib.pyplot as plt\n",
    "try:\n",
    "    logo = np.load(\"numpy-logo.npy\")\n",
    "    plt.figure(figsize=(12,5))\n",
    "    plt.subplot(121)\n",
    "    plt.imshow(logo)\n",
    "    plt.title(\"numpy logo\")\n",
    "    plt.grid(False)\n",
    "\n",
    "    dark_logo = 1 - logo\n",
    "    plt.subplot(122)\n",
    "    plt.imshow(dark_logo)\n",
    "    plt.title(\"Numpy Dark logo\")\n",
    "except FileNotFoundError:\n",
    "    print(FileNotFoundError)"
   ]
  }
 ],
 "metadata": {
  "kernelspec": {
   "display_name": "Python 3 (ipykernel)",
   "language": "python",
   "name": "python3"
  },
  "language_info": {
   "codemirror_mode": {
    "name": "ipython",
    "version": 3
   },
   "file_extension": ".py",
   "mimetype": "text/x-python",
   "name": "python",
   "nbconvert_exporter": "python",
   "pygments_lexer": "ipython3",
   "version": "3.12.2"
  }
 },
 "nbformat": 4,
 "nbformat_minor": 5
}
